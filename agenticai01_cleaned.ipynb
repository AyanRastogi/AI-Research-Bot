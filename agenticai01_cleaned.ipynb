{
 "cells": [
  {
   "cell_type": "code",
   "execution_count": null,
   "metadata": {
    "colab": {
     "base_uri": "https://localhost:8080/"
    },
    "id": "S-imvFCV5Xjh",
    "outputId": "7c927172-dcf9-4096-9874-d039af57319b"
   },
   "outputs": [],
   "source": [
    "!pip install transformers gradio requests beautifulsoup4\n"
   ]
  },
  {
   "cell_type": "code",
   "execution_count": null,
   "metadata": {
    "id": "WwiqT6w9BiPi"
   },
   "outputs": [],
   "source": [
    "import re\n",
    "import requests\n",
    "from bs4 import BeautifulSoup\n",
    "from transformers import pipeline\n",
    "import gradio as gr"
   ]
  },
  {
   "cell_type": "code",
   "execution_count": null,
   "metadata": {
    "id": "cpr1DUV3BmHU"
   },
   "outputs": [],
   "source": [
    "def clean_text(text):\n",
    "    text = re.sub(r'\\n+', ' ', text)\n",
    "    text = re.sub(r'\\s{2,}', ' ', text)\n",
    "    text = re.sub(r'\\[.*?\\]|\\(.*?\\)', '', text)\n",
    "    return text.strip()\n"
   ]
  },
  {
   "cell_type": "code",
   "execution_count": null,
   "metadata": {
    "id": "PLJxCxqXBoyR"
   },
   "outputs": [],
   "source": [
    "def get_arxiv_paper(title):\n",
    "    search_url = f\"http://export.arxiv.org/api/query?search_query=all:{title}&start=0&max_results=1\"\n",
    "    response = requests.get(search_url)\n",
    "    soup = BeautifulSoup(response.content, \"xml\")\n",
    "    entry = soup.find('entry')\n",
    "    if not entry:\n",
    "        return None, None\n",
    "    paper_title = entry.title.text.strip()\n",
    "    summary = entry.summary.text.strip()\n",
    "    return paper_title, summary\n"
   ]
  },
  {
   "cell_type": "code",
   "execution_count": null,
   "metadata": {
    "colab": {
     "base_uri": "https://localhost:8080/",
     "height": 469,
     "referenced_widgets": [
      "d1f781805b6247f0bfe1c1277b2b64de",
      "d0e400e440cb4ac9b50800de995f98ce",
      "119330ef2aaa4aa7b3eb2cec3188838e",
      "936d8fc3a46a4bc39819da532978bcbd",
      "7d89e621e953446895bfa22c7b581e1d",
      "9954a01efdd840e3bed51ba3ff527f86",
      "8cf94c6817684323903716c1f4f9aff5",
      "5ac11c958e7f419e8f184b663ef0f086",
      "46e0383492c54d52beb833f7bc977c26",
      "fc36cffd52cb4003b99f022b28564f23",
      "47831e5de93d448f90d95086b4141774",
      "40ae5cf1f40c46caa132675c96fb6be1",
      "9b1084d5ecd245c9bb6b3a056dbc8f5d",
      "e6632beeba874f3ca0861de38fa91a38",
      "3079481906174cf093c504fd12f26881",
      "e91a43d12b354f80a5a2ca2964996d57",
      "a9a578bea63d4d838cd33d6684e36134",
      "99490d5bfdb649a2a6817270aa74a880",
      "f385905c3b54472ca37ac4e370c77495",
      "8e6d6e87ad14477f8bf45f2488c02e1d",
      "d8cd1310c1554202bbfc8bc076cb24c5",
      "2bdcf366922045d4a11751536522b3a7",
      "50adca447e5c492181770153cb75bbde",
      "5b8d7864ab7b46d4acec5bad5fd83e7c",
      "ede0b4d2621845acb35071ac7f655510",
      "9834a540d88440b8b1bdebc1000aedc4",
      "997cb10428b7445dad9e6e62f4ae6408",
      "ac325ab2b4dd46d695c164ec06519628",
      "55af867e9d2c4d329a62d630fc41e9c1",
      "982328d1434a4955838ca7b8b2bdba7b",
      "d342f63b4fc34dc192c37dc70e13be6b",
      "c486d1e6bf7f4642b96e02da840d7252",
      "aaa5688b567c4775924b0c2339adb942",
      "f8ad8ab6e0e546e4b3c2e0d659463140",
      "ebe9265014594fb1926b8cd707cda46d",
      "bb5f6d7627584c26ab6d528f7cc6195d",
      "b68c6f7855db45eba02e049c8c444af7",
      "25600ce632ac4ae3be7d3bfd010cfa40",
      "18fed4795357468d8c16e2801c1cf003",
      "e3eb95b8dc2e4c668a0f8ae5751e1259",
      "914e755eaf884730b7757dfce01af0b5",
      "799a570230804610992b3692ddfa7dd0",
      "d1084baff3b54b668100900288663e3e",
      "3c452dc8fbc248d6b857a3537de0bf1b",
      "f9c4dcf2296b46468e2b10b871d1e383",
      "b4c5cbda1def434fbea24c1bcd38801f",
      "32d0fe027f3a424bb73ae3bf84da9fa7",
      "081e324420be4a59901ec49eede262e7",
      "7bbf66cb9e1d417aa7f140a201c8fb91",
      "765ecdc685b741b09e7a64582c3ba987",
      "076311d891be4284ae4c086ee5e101a5",
      "d7b3691098db4391b99f93c700080b91",
      "b224b7a881004388b1efa043bb6a4871",
      "e866a2c42d7f4ee3b1df0f41ae85fa52",
      "3e07a8d2025a466791e929c573ecb676",
      "3a9e91600d02434f864da7faf50ba551",
      "a62289813ad8463f8ded0efff6306e94",
      "08d23ba46e12487d8c27d32be7bc5b3f",
      "0d0ff0b1db4a4c659cb7368b58599229",
      "37bd4001ee5b41dbb942d28e22edb1e6",
      "c9488bf163794eacbb02d20336aae916",
      "b3967f1c02724867ae0a76db79778504",
      "ee7df7538b7c4d469703f0676bc3f485",
      "c5f24af364c941a0ad6d180afa9f38f1",
      "26c70a8d09e549efb3873a7e3679979d",
      "950f3f6a65e744af8f01e952dd6291fd",
      "b0e2be0230be4f42a9ccd1378c9c2bdd",
      "fcf2689e5cfc4a76961ce20ab9bb2006",
      "d8d333cc2ff8458a95af00dc3b502aa4",
      "71302d0328d147fca1a4d9a243c79d73",
      "aa36423b380b4f109c2f0265ca666ece",
      "5f12c989697d4ae7a551e41163c6da43",
      "fae6b9e72f5a41d6988f85fb7e230f45",
      "34be464d1c614bd8a5de2572d2122c6b",
      "2b372b689f0847c9826cd336c7e411fe",
      "24ee674b78ca4598b1bf1c415c4728a2",
      "8a7692d6b4ea47f99edb4148d3e428d3"
     ]
    },
    "id": "cf1D0H7CBwaD",
    "outputId": "c204af25-f21a-48a8-cc32-7ee9a4c23d67"
   },
   "outputs": [],
   "source": [
    "summarizer = pipeline(\"summarization\", model=\"google/flan-t5-large\")\n",
    "qa_pipeline = pipeline(\"text2text-generation\", model=\"google/flan-t5-large\")"
   ]
  },
  {
   "cell_type": "code",
   "execution_count": null,
   "metadata": {
    "id": "vLQpOYBIBxTT"
   },
   "outputs": [],
   "source": [
    "def generate_summary(paper_abstract):\n",
    "    cleaned = clean_text(paper_abstract)\n",
    "    summary = summarizer(cleaned, max_length=200, min_length=80, do_sample=False)[0]['summary_text']\n",
    "    return summary"
   ]
  },
  {
   "cell_type": "code",
   "execution_count": null,
   "metadata": {
    "id": "u1YeuqFhB2B0"
   },
   "outputs": [],
   "source": [
    "def answer_question(abstract, question):\n",
    "    prompt = f\"Context: {abstract}\\n\\nQuestion: {question}\\nAnswer:\"\n",
    "    response = qa_pipeline(prompt, max_length=200)[0]['generated_text']\n",
    "    return response.strip()"
   ]
  },
  {
   "cell_type": "code",
   "execution_count": null,
   "metadata": {
    "id": "DnOhGSerCBed"
   },
   "outputs": [],
   "source": [
    "def paper_bot(title_input, question_input):\n",
    "    paper_title, abstract = get_arxiv_paper(title_input)\n",
    "    if not abstract:\n",
    "        return \" Paper not found. Try a different title.\"\n",
    "\n",
    "    summary = generate_summary(abstract)\n",
    "    answer_section = \"\"\n",
    "    if question_input:\n",
    "        answer = answer_question(abstract, question_input)\n",
    "        answer_section = f\"### Answer to your question:\\n{answer}\\n\\n\"\n",
    "\n",
    "    return (\n",
    "        f\"##  Paper Title: {paper_title}\\n\\n\"\n",
    "        f\"---\\n\\n\"\n",
    "        f\"###  Summary:\\n{summary}\\n\\n\"\n",
    "        f\"{answer_section}\"\n",
    "        f\"---\\n\"\n",
    "        f\"🔗 [Read full paper on arXiv](https://arxiv.org/search/?query={'+'.join(title_input.split())}&searchtype=all)\"\n",
    "    )\n"
   ]
  },
  {
   "cell_type": "code",
   "execution_count": null,
   "metadata": {
    "colab": {
     "base_uri": "https://localhost:8080/",
     "height": 645
    },
    "id": "9aHN586PCSYc",
    "outputId": "483ddbd3-63ed-4513-ca24-46d0718f3e04"
   },
   "outputs": [],
   "source": [
    "gr.Interface(\n",
    "    fn=paper_bot,\n",
    "    inputs=[\n",
    "        gr.Textbox(label=\"Enter Research Paper Title\"),\n",
    "        gr.Textbox(label=\"Ask a Question About the Paper (optional)\")\n",
    "    ],\n",
    "    outputs=\"markdown\",\n",
    "    title=\"Research Paper Q&A Bot\",\n",
    "    description=\"Enter a paper title to get a summary and optionally ask a question based on the paper abstract.\"\n",
    ").launch()\n"
   ]
  },
  {
   "cell_type": "code",
   "execution_count": null,
   "metadata": {
    "id": "1PztLysjFASO"
   },
   "outputs": [],
   "source": []
  }
 ],
 "metadata": {
  "colab": {
   "provenance": []
  },
  "kernelspec": {
   "display_name": "Python 3",
   "name": "python3"
  },
  "language_info": {
   "name": "python"
  }
 },
 "nbformat": 4,
 "nbformat_minor": 0
}
